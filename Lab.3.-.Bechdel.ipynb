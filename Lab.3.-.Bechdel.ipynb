{
 "cells": [
  {
   "cell_type": "markdown",
   "metadata": {},
   "source": [
    "# Lab 3 - Bechdel's Test"
   ]
  },
  {
   "cell_type": "markdown",
   "metadata": {},
   "source": [
    "## Part 1: Sorting Data for Analysis and Calculating Means"
   ]
  },
  {
   "cell_type": "markdown",
   "metadata": {},
   "source": [
    "### Introduction:\n",
    "This lab looks at movies from 1970-2013 and data regarding their production, income, and whether or not it passes the Bechdel Test. The Bechdel Test, named after its creator Allison Bechdel, looks to see if movies pass a seemingly simple condition: two named women characters need to have a conversation regarding something other than men. The purpose of this lab is to see if movies that pass the Bechdel Test have higher or lower incomes than those that fail (or the vice versa).\n",
    "\n",
    "In order to analyze the budget and gross incomes of the movies, I will make a list for each and organize the data into them. Both of these lists will contain 5 lists within them as well, each pertaining to a potential result from the Bechdel Test: ok, men, no women, no talk, and dubious. In addition, my code will only include data for movies that have a gross income. A handful of movies do not have an income so my code is designed to skip those movies when organizing into the lists. Once the data is organized, I will calculate the means of each list so that the incomes and budgets can be compared. The visual representation of the data is in part 2."
   ]
  },
  {
   "cell_type": "code",
   "execution_count": 34,
   "metadata": {
    "collapsed": true
   },
   "outputs": [],
   "source": [
    "#Import CSV\n",
    "import csv\n",
    "x = open(\"movies.csv\", 'r')\n",
    "dataFile = list(csv.reader(x))\n",
    "\n",
    "#Import scipy\n",
    "import scipy.stats as st\n",
    "import statistics as stat\n",
    "\n",
    "#Create lists\n",
    "budgetList = []\n",
    "incomeList = []\n",
    "\n",
    "#List of Lists\n",
    "for x in range(0,5):\n",
    "    budgetList.append([])\n",
    "    incomeList.append([])\n",
    "\n",
    "for x in range(len(dataFile)):\n",
    "    if dataFile[x][4] == 'ok':\n",
    "        if dataFile[x][11] != '#N/A':\n",
    "            incomeList[0].append(dataFile[x][11])\n",
    "            budgetList[0].append(dataFile[x][10])\n",
    "    if dataFile[x][4] == 'notalk':\n",
    "         if dataFile[x][11] != '#N/A':\n",
    "            incomeList[1].append(dataFile[x][11])\n",
    "            budgetList[1].append(dataFile[x][10])\n",
    "    if dataFile[x][4] == 'nowomen':\n",
    "         if dataFile[x][11] != '#N/A':\n",
    "            incomeList[2].append(dataFile[x][11])\n",
    "            budgetList[2].append(dataFile[x][10])\n",
    "    if dataFile[x][4] == 'men':\n",
    "         if dataFile[x][11] != '#N/A':\n",
    "            incomeList[3].append(dataFile[x][11])\n",
    "            budgetList[3].append(dataFile[x][10])\n",
    "    if dataFile[x][4] == 'dubious':\n",
    "         if dataFile[x][11] != '#N/A':\n",
    "            budgetList[4].append(dataFile[x][10])\n",
    "            incomeList[4].append(dataFile[x][11])\n",
    "            \n",
    "#Convert all data to integers\n",
    "for x in range(len(budgetList)):\n",
    "    for z in range(len(budgetList[x])):\n",
    "        budgetList[x][z] = int(budgetList[x][z])\n",
    "        incomeList[x][z] = int(incomeList[x][z])"
   ]
  },
  {
   "cell_type": "code",
   "execution_count": 35,
   "metadata": {
    "collapsed": false
   },
   "outputs": [
    {
     "name": "stdout",
     "output_type": "stream",
     "text": [
      "Mean Domestic Income - Passed: 79591918\n",
      "Mean Budget - Passed 46670698\n",
      "Mean Domestic Income - No Talk: 115113629\n",
      "Mean Budget - No Talk: 67330808\n",
      "Mean Domestic Income - No Women: 98906287\n",
      "Mean Budget - No Women 62866599\n",
      "Mean Domestic Income - Men: 96691839\n",
      "Mean Budget - Men: 55324062\n",
      "Mean Domestic Income - Dubious: 105077222\n",
      "Mean Budget - Dubious: 60368471\n"
     ]
    }
   ],
   "source": [
    "#Calculate Means\n",
    "#Ok\n",
    "print(\"Mean Domestic Income - Passed:\", int(stat.mean(incomeList[0])))\n",
    "print(\"Mean Budget - Passed\", int(stat.mean(budgetList[0])))\n",
    "\n",
    "#No Talk\n",
    "print(\"Mean Domestic Income - No Talk:\", int(stat.mean(incomeList[1])))\n",
    "print(\"Mean Budget - No Talk:\", int(stat.mean(budgetList[1])))\n",
    "\n",
    "#No Women\n",
    "print(\"Mean Domestic Income - No Women:\", int(stat.mean(incomeList[2])))\n",
    "print(\"Mean Budget - No Women\", int(stat.mean(budgetList[2])))\n",
    "\n",
    "#Men\n",
    "print(\"Mean Domestic Income - Men:\", int(stat.mean(incomeList[3])))\n",
    "print(\"Mean Budget - Men:\", int(stat.mean(budgetList[3])))\n",
    "\n",
    "#Dubious\n",
    "print(\"Mean Domestic Income - Dubious:\", int(stat.mean(incomeList[4])))\n",
    "print(\"Mean Budget - Dubious:\", int(stat.mean(budgetList[4])))"
   ]
  },
  {
   "cell_type": "markdown",
   "metadata": {},
   "source": [
    "## Part 2: Graphing Budget and Income"
   ]
  },
  {
   "cell_type": "code",
   "execution_count": 36,
   "metadata": {
    "collapsed": false,
    "scrolled": true
   },
   "outputs": [],
   "source": [
    "%matplotlib inline\n",
    "import matplotlib.pyplot as plt\n",
    "#Creating two lists that will contain the means for budget and income for each test result\n",
    "allIncome = []\n",
    "allBudget = []\n",
    "for x in range(len(budgetList)):\n",
    "    allIncome.append(int(stat.mean(incomeList[x])))\n",
    "    allBudget.append(int(stat.mean(budgetList[x])))"
   ]
  },
  {
   "cell_type": "code",
   "execution_count": 37,
   "metadata": {
    "collapsed": false,
    "scrolled": false
   },
   "outputs": [
    {
     "name": "stdout",
     "output_type": "stream",
     "text": [
      "Legend:\n",
      "0 - Ok (Passed)\n",
      "1 - No Talk\n",
      "2 - No Women\n",
      "3 - Men\n",
      "4 - Dubious\n"
     ]
    },
    {
     "data": {
      "image/png": "[encoded data removed]",
      "text/plain": [
       "<matplotlib.figure.Figure at 0x1dc53847898>"
      ]
     },
     "metadata": {},
     "output_type": "display_data"
    }
   ],
   "source": [
    "#Bar Graph of Mean Incomes\n",
    "plt.bar([0,1,2,3,4], allIncome, width=1)\n",
    "plt.ylim(ymax=120000000)\n",
    "plt.ylabel(\"Income of Movies (x10^8)\")\n",
    "plt.xlabel(\"Passed or Failed (By Reason)\")\n",
    "plt.title(\"Mean Income of Movies\")\n",
    "print(\"Legend:\")\n",
    "print(\"0 - Ok (Passed)\")\n",
    "print(\"1 - No Talk\")\n",
    "print(\"2 - No Women\")\n",
    "print(\"3 - Men\")\n",
    "print(\"4 - Dubious\")"
   ]
  },
  {
   "cell_type": "code",
   "execution_count": 38,
   "metadata": {
    "collapsed": false,
    "scrolled": true
   },
   "outputs": [
    {
     "name": "stdout",
     "output_type": "stream",
     "text": [
      "Legend:\n",
      "0 - Ok (Passed)\n",
      "1 - No Talk\n",
      "2 - No Women\n",
      "3 - Men\n",
      "4 - Dubious\n"
     ]
    },
    {
     "data": {
      "image/png": "[encoded data removed]",
      "text/plain": [
       "<matplotlib.figure.Figure at 0x1dc565514a8>"
      ]
     },
     "metadata": {},
     "output_type": "display_data"
    }
   ],
   "source": [
    "#Bar Graph of Mean Budgets\n",
    "plt.bar([0,1,2,3,4], allBudget, width=1)\n",
    "plt.ylim(ymax=80000000)\n",
    "plt.ylabel(\"Income of Movies (x10^7)\")\n",
    "plt.xlabel(\"Passed or Failed (By Reason)\")\n",
    "plt.title(\"Mean Budget of Movies\")\n",
    "print(\"Legend:\")\n",
    "print(\"0 - Ok (Passed)\")\n",
    "print(\"1 - No Talk\")\n",
    "print(\"2 - No Women\")\n",
    "print(\"3 - Men\")\n",
    "print(\"4 - Dubious\")"
   ]
  },
  {
   "cell_type": "markdown",
   "metadata": {},
   "source": [
    "### Part 2 Discussion\n",
    "Looking at the bar graphs above, a couple things stand out. Primarily, both graphs have the same distrbution if you in the sense of their order. Both mean budget and mean gross income follows the order - No Talk, No Women, Dubious, Men, and ok - from greatest to least. Most importantly, the average budget and income for every way to fail the test is higher than the average budget and income for movies that pass the test. In addition, the difference between passing movies and the next lowest group of failing movies is larger than any other continuous difference.\n",
    "\n",
    "As a result, we can conclude that movies that fail the Bechdel Test have lower budgets and lower gross incomes."
   ]
  },
  {
   "cell_type": "markdown",
   "metadata": {},
   "source": [
    "## Part 3: Disagreement\n",
    "\n",
    "Part 3 looks specifically at movies wherein a disagreement has been denoted on the passing or failing of a movie. An example of such a situation is \"Gravity\" which features a female lead character throughout the movie but doesn't have a conversation with another named female because the vast majority of the film features her alone or with her male astronaut partner. In this example, the movie technically fails the test but there is more to it than simply a binary \"pass\" or \"fail\". \n",
    "\n",
    "I will utilize a similar orginization tool as I did in part 1 that will two lists with 5 lists each only containing the budget and income for movies whose Bechdel Test results are disagreed. Then I will recreate bar graph graphs to see if disagreement has affected the distribution of budget and income."
   ]
  },
  {
   "cell_type": "code",
   "execution_count": 39,
   "metadata": {
    "collapsed": true
   },
   "outputs": [],
   "source": [
    "#Create New Lists\n",
    "incomeListDis = []\n",
    "budgetListDis = []\n",
    "\n",
    "#List of lists\n",
    "for x in range(0,5):\n",
    "    budgetListDis.append([])\n",
    "    incomeListDis.append([])\n",
    "\n",
    "#Append data for when movies have disagreement\n",
    "for x in range(len(dataFile)):\n",
    "    if dataFile[x][3] == 'ok-disagree':\n",
    "        if dataFile[x][11] != '#N/A':\n",
    "            incomeListDis[0].append(dataFile[x][11])\n",
    "            budgetListDis[0].append(dataFile[x][10])\n",
    "    if dataFile[x][3] == 'notalk-disagree':\n",
    "         if dataFile[x][11] != '#N/A':\n",
    "            incomeListDis[1].append(dataFile[x][11])\n",
    "            budgetListDis[1].append(dataFile[x][10])\n",
    "    if dataFile[x][3] == 'nowomen-disagree':\n",
    "         if dataFile[x][11] != '#N/A':\n",
    "            incomeListDis[2].append(dataFile[x][11])\n",
    "            budgetListDis[2].append(dataFile[x][10])\n",
    "    if dataFile[x][3] == 'men-disagree':\n",
    "         if dataFile[x][11] != '#N/A':\n",
    "            incomeListDis[3].append(dataFile[x][11])\n",
    "            budgetListDis[3].append(dataFile[x][10])\n",
    "    if dataFile[x][3] == 'dubious-disagree':\n",
    "         if dataFile[x][11] != '#N/A':\n",
    "            budgetListDis[4].append(dataFile[x][10])\n",
    "            incomeListDis[4].append(dataFile[x][11])"
   ]
  },
  {
   "cell_type": "code",
   "execution_count": 40,
   "metadata": {
    "collapsed": false
   },
   "outputs": [],
   "source": [
    "#Convert all data to integers\n",
    "for x in range(len(budgetListDis)):\n",
    "    for z in range(len(budgetListDis[x])):\n",
    "        budgetListDis[x][z] = int(budgetListDis[x][z])\n",
    "        incomeListDis[x][z] = int(incomeListDis[x][z])\n",
    "\n",
    "#Creating two lists that will contain the means for budget and income for each test result\n",
    "allIncomeDis = []\n",
    "allBudgetDis = []\n",
    "for x in range(len(budgetListDis)):\n",
    "    allIncomeDis.append(int(stat.mean(incomeListDis[x])))\n",
    "    allBudgetDis.append(int(stat.mean(budgetListDis[x])))"
   ]
  },
  {
   "cell_type": "code",
   "execution_count": 41,
   "metadata": {
    "collapsed": false
   },
   "outputs": [
    {
     "name": "stdout",
     "output_type": "stream",
     "text": [
      "Legend:\n",
      "0 - Ok (Passed)\n",
      "1 - No Talk\n",
      "2 - No Women\n",
      "3 - Men\n",
      "4 - Dubious\n"
     ]
    },
    {
     "data": {
      "image/png": "[encoded data removed]",
      "text/plain": [
       "<matplotlib.figure.Figure at 0x1dc55dfd160>"
      ]
     },
     "metadata": {},
     "output_type": "display_data"
    }
   ],
   "source": [
    "#Bar Graph of Mean Incomes\n",
    "plt.bar([0,1,2,3,4], allIncomeDis, width=1)\n",
    "plt.ylim(ymax=150000000)\n",
    "plt.ylabel(\"Income of Movies (x10^8)\")\n",
    "plt.xlabel(\"Passed or Failed (By Reason)\")\n",
    "plt.title(\"Mean Income of Movies With Disagreements\")\n",
    "print(\"Legend:\")\n",
    "print(\"0 - Ok (Passed)\")\n",
    "print(\"1 - No Talk\")\n",
    "print(\"2 - No Women\")\n",
    "print(\"3 - Men\")\n",
    "print(\"4 - Dubious\")"
   ]
  },
  {
   "cell_type": "code",
   "execution_count": 42,
   "metadata": {
    "collapsed": false
   },
   "outputs": [
    {
     "name": "stdout",
     "output_type": "stream",
     "text": [
      "Legend:\n",
      "0 - Ok (Passed)\n",
      "1 - No Talk\n",
      "2 - No Women\n",
      "3 - Men\n",
      "4 - Dubious\n"
     ]
    },
    {
     "data": {
      "image/png": "[encoded data removed]",
      "text/plain": [
       "<matplotlib.figure.Figure at 0x1dc564908d0>"
      ]
     },
     "metadata": {},
     "output_type": "display_data"
    }
   ],
   "source": [
    "#Bar Graph of Mean Budgets\n",
    "plt.bar([0,1,2,3,4], allBudgetDis, width=1)\n",
    "plt.ylim(ymax=85000000)\n",
    "plt.ylabel(\"Income of Movies (x10^7)\")\n",
    "plt.xlabel(\"Passed or Failed (By Reason)\")\n",
    "plt.title(\"Mean Budget of Movies With Disagreements\")\n",
    "print(\"Legend:\")\n",
    "print(\"0 - Ok (Passed)\")\n",
    "print(\"1 - No Talk\")\n",
    "print(\"2 - No Women\")\n",
    "print(\"3 - Men\")\n",
    "print(\"4 - Dubious\")"
   ]
  },
  {
   "cell_type": "markdown",
   "metadata": {},
   "source": [
    "### Part 3 Discussion:\n",
    "After analyzing and graphing the budget and income for movies with disagreements, different results are apparent. First, movies that pass the test with disagreements are now have the second highest budget and gross income. This is, of course, drastically different that the results from part 2 where movies that passed the test had the lowest mean budget and gross income. \n",
    "\n",
    "As a result, we can conclude there is a clear association between disagreement and mean budget and mean gross income. However, it is not clear whether there is causation. A potential lurking variable that I identified is in regards to which movies people are more likely to find disagreements in. Given that movies that fail the Bechdel Test for any reason have greater gross incomes, more people in general are paying to watch these movies. With more people watching these movies come more people who could potentially disagree with the results of these tests. This would account for the lower budget and income means for most failing data groups because a wider variety of movies (some with very low budgets and incomes and some with very high) are being watched and therefore discussed in general. In contrast, our data from part 2 indicated that movies that pass the test have lower mean incomes so less people are paying to watch them. Therefore, only the really popular movies are getting argued, because those are the movies more people have seen. Having more people see the movie means it has a higher gross income. In addition, a more popular movie is likely popular due to marketing or high-profile casts, both factors that require a larger budget. So while there is an association between the dissagreement and the mean budget and mean income, societal preferences^ can act as a lurking variable.\n",
    "\n",
    "^ - Societal preferences refers to the fact that more people are watching movies that fail the Bechdel Test than movies that pass. This can be attributed to the sexist culture that is deeply ingrained in our society or to the sad fact that more movies in general fail the Bechdel Test (and these options are certainly not mutually exclusive but, rather, interconnected)."
   ]
  },
  {
   "cell_type": "code",
   "execution_count": null,
   "metadata": {
    "collapsed": true
   },
   "outputs": [],
   "source": []
  }
 ],
 "metadata": {
  "kernelspec": {
   "display_name": "Python 3",
   "language": "python",
   "name": "python3"
  },
  "language_info": {
   "codemirror_mode": {
    "name": "ipython",
    "version": 3
   },
   "file_extension": ".py",
   "mimetype": "text/x-python",
   "name": "python",
   "nbconvert_exporter": "python",
   "pygments_lexer": "ipython3",
   "version": "3.5.1"
  }
 },
 "nbformat": 4,
 "nbformat_minor": 0
}
