{
 "cells": [
  {
   "cell_type": "markdown",
   "metadata": {},
   "source": [
    "# Lab 2: NBA Correlations: Win probability between minutes in an NBA game"
   ]
  },
  {
   "cell_type": "markdown",
   "metadata": {},
   "source": [
    "## Part 1: Finding Correlations"
   ]
  },
  {
   "cell_type": "markdown",
   "metadata": {},
   "source": [
    "This data set is from Nate Silver and contains the win probability for each NBA team's win probability at any given minute of a game from the 1st to 48th. I am going to sort these into lists with that containt win probability by minute for all teams in the NBA."
   ]
  },
  {
   "cell_type": "code",
   "execution_count": null,
   "metadata": {
    "collapsed": false
   },
   "outputs": [],
   "source": [
    "%matplotlib inline\n",
    "#Import stuff\n",
    "import matplotlib.pyplot as plt\n",
    "import scipy.stats as st\n",
    "#Get data from csv\n",
    "dataFile = open(\"nba.csv\", \"r\")\n",
    "#Empty list\n",
    "generalData = []\n",
    "#Append info\n",
    "for x in dataFile:\n",
    "    generalData.append(x)\n",
    "\n",
    "#Edit generalData\n",
    "del generalData[0]\n",
    "\n",
    "#Edit down data and append to lists\n",
    "for x in range(len(generalData)):\n",
    "    generalData[x] = generalData[x].replace(\"\\n\", \"\")\n",
    "    generalData[x] = generalData[x].split(\",\")\n",
    "\n",
    "#Create new list\n",
    "bigList = []\n",
    "\n",
    "#Create a list of lists\n",
    "for x in range(49):\n",
    "    bigList.append([])\n",
    "\n",
    "\n",
    "#Append values per minute into list of lists\n",
    "for x in range(len(generalData)):\n",
    "    for z in range(len(generalData[x])-1):\n",
    "        bigList[z].append(float(generalData[x][z+1]))    \n",
    "\n",
    "#Create list for correlations\n",
    "corList = []\n",
    "\n",
    "#Correlation Calculations\n",
    "for x in range(len(bigList)):\n",
    "    corList.append(st.pearsonr(bigList[48],bigList[x]))\n",
    "\n",
    "#List of correlations for display purposes\n",
    "corListPrint = []\n",
    "print(\"Correlations by Minute:\")\n",
    "for x in range(len(corList)):\n",
    "    corListPrint.append(corList[x][0])\n",
    "    print(\"Minute\", str(x), \"-\", corListPrint[x])\n",
    "    \n",
    "#Print the 3 most correlated minutes\n",
    "print(\"\")\n",
    "print(\"3 Minutes Most Correlated with the 48th Minute\")\n",
    "print(\"1.  47th Minute -\", corListPrint[47])\n",
    "print(\"2.  46th Minute -\", corListPrint[46])\n",
    "print(\"3.  45th Minute -\", corListPrint[45])"
   ]
  },
  {
   "cell_type": "markdown",
   "metadata": {},
   "source": [
    "## Part 2: Scattergrams of Most Correlated Minutes"
   ]
  },
  {
   "cell_type": "markdown",
   "metadata": {},
   "source": [
    "Here, I graph the 45th, 46th, and 47th minutes against the 48th minutes to visually display the most correlated minutes."
   ]
  },
  {
   "cell_type": "code",
   "execution_count": null,
   "metadata": {
    "collapsed": false
   },
   "outputs": [],
   "source": [
    "%matplotlib inline\n",
    "#Create Scatterplot\n",
    "plt.scatter(bigList[48], bigList[47])\n",
    "plt.title(\"Correlation Between 47th and 48th Minute\")\n",
    "plt.xlabel(\"48th Minute Win Probability\")\n",
    "plt.ylabel(\"47th Minute Win Probability\")\n",
    "#Calculate and Print LinReg Slope\n",
    "linReg1 = st.linregress(bigList[48], bigList[47])\n",
    "print(\"Slope of Least Square Regression Line:\", linReg1[0])"
   ]
  },
  {
   "cell_type": "code",
   "execution_count": null,
   "metadata": {
    "collapsed": false
   },
   "outputs": [],
   "source": [
    "%matplotlib inline\n",
    "#Create Scatterplot\n",
    "plt.scatter(bigList[48], bigList[46])\n",
    "plt.title(\"Correlation Between 46th and 48th Minute\")\n",
    "plt.xlabel(\"48th Minute Win Probability\")\n",
    "plt.ylabel(\"46th Minute Win Probability\")\n",
    "#Calculate and Print LinReg Slope\n",
    "linReg2 = st.linregress(bigList[48], bigList[46])\n",
    "print(\"Slope of Least Square Regression Line:\", linReg2[0])"
   ]
  },
  {
   "cell_type": "code",
   "execution_count": null,
   "metadata": {
    "collapsed": false
   },
   "outputs": [],
   "source": [
    "%matplotlib inline\n",
    "#Create Scatterplot\n",
    "plt.scatter(bigList[48], bigList[45])\n",
    "plt.title(\"Correlation Between 45th and 48th Minute\")\n",
    "plt.xlabel(\"48th Minute Win Probability\")\n",
    "plt.ylabel(\"45th Minute Win Probability\")\n",
    "#Calculate and Print LinReg Slope\n",
    "linReg3 = st.linregress(bigList[48], bigList[45])\n",
    "print(\"Slope of Least Square Regression Line:\", linReg3[0])    "
   ]
  },
  {
   "cell_type": "markdown",
   "metadata": {
    "collapsed": true
   },
   "source": [
    "## Part 3: Conclusions"
   ]
  },
  {
   "cell_type": "markdown",
   "metadata": {},
   "source": [
    "Finally, we find that the minutes that have a win probability that is most correllated to the win probability of the 48th minute are the 45th, 46th, and 47th. \n",
    "\n",
    "In order to find this, I first needed to organize the data from the dataset in such a way that I could analyze it by minute, instead of by team as it is organized in the original dataset. To do this, I needed to create a list of lists so that I could call one list of data points and compare it another. Each list contains the win-probabilities for every team for one minute. Once I made my list of lists, I was able to make a \"for-loop\" that compared each list to the last list, which was our anchor variable and calculated the correlation coefficient. The correlation coefficient quantifies the strength of the relationship between two lists of data. When the correlation coefficient is very close \"1\" or \"-1\", the data is strongly correlated and when the correlation coeffecient is close to \"0\", it means the data is not or weakly correlated. \n",
    "\n",
    "So, again, the 45th, 46th, and 47th minutes have the most correlated win percentages to the that of the 48th minute; and that is not especially surprising. It makes sense that the win probability in the last couple minutes of a game would be better indicators of win probability at the end of the game in comparison to other minutes. Especially considering the win probability in the final minute is generally a good indicator of who won a certain game (with the exception of literal last minute comebacks and buzzer beaters). So we can conclude that the likliness of a team to win in the last few minutes of a game is strongly correlated and therefore a strong indicator of who will win that game. Additianally, when you look at the list of correlations from part 1, you can see that the correlatation coefficient's value is increasing towards \"1\" which means that the farther into the game you are, the more accurate your win probability is as an indicator of the winner."
   ]
  }
 ],
 "metadata": {
  "kernelspec": {
   "display_name": "Python 3",
   "language": "python",
   "name": "python3"
  },
  "language_info": {
   "codemirror_mode": {
    "name": "ipython",
    "version": 3
   },
   "file_extension": ".py",
   "mimetype": "text/x-python",
   "name": "python",
   "nbconvert_exporter": "python",
   "pygments_lexer": "ipython3",
   "version": "3.5.1"
  }
 },
 "nbformat": 4,
 "nbformat_minor": 0
}
