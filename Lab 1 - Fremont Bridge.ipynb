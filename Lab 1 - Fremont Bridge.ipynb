{
 "cells": [
  {
   "cell_type": "markdown",
   "metadata": {},
   "source": [
    "# Lab 1: Fremont Bridge Data Analysis\n",
    "### Part 1: Measures of Center and Histrograms"
   ]
  },
  {
   "cell_type": "code",
   "execution_count": 2,
   "metadata": {
    "collapsed": false,
    "scrolled": true
   },
   "outputs": [
    {
     "name": "stdout",
     "output_type": "stream",
     "text": [
      "The East Mean is: 1265\n",
      "The West Mean is: 1352\n",
      "The East Median is: 1155\n",
      "The West Median is: 1262\n",
      "There is NO unique mode for the eastbound data\n",
      "There is NO unique mode for the westbound data\n"
     ]
    },
    {
     "data": {
      "text/plain": [
       "<matplotlib.text.Text at 0x21901fe2390>"
      ]
     },
     "execution_count": 2,
     "metadata": {},
     "output_type": "execute_result"
    },
    {
     "data": {
      "image/png": "[encoded data removed]",
      "text/plain": [
       "<matplotlib.figure.Figure at 0x21901fd2be0>"
      ]
     },
     "metadata": {},
     "output_type": "display_data"
    }
   ],
   "source": [
    "#Make sure graph will appear\n",
    "%matplotlib inline\n",
    "import matplotlib.pyplot as plt\n",
    "#open and save the file for reading\n",
    "data_file = open(\"FreBridgeLarge.csv\", \"r\");\n",
    "#create an empty list to store the data\n",
    "data_list = [];\n",
    "#put all lines from the file into a list\n",
    "for ii in data_file:\n",
    "    data_list.append(ii);\n",
    "\n",
    "#remove the first element (column header)\n",
    "del data_list[0];\n",
    "#create empty lists for westbound and eastbound bikes\n",
    "west = [];\n",
    "east = [];    \n",
    "for jj in range(len(data_list)):\n",
    "    #strip off the \\n (newline)\n",
    "    data_list[jj] = data_list[jj].replace(\"\\n\", \"\");\n",
    "    #make into a list of lists of just numbers\n",
    "    data_list[jj] = data_list[jj].split(\",\");\n",
    "    #add data to specific lists for west and east\n",
    "    west.append(int(data_list[jj][1]));\n",
    "    east.append(int(data_list[jj][2]));\n",
    "\n",
    "#Import statistics library to measure mean, median, mode, etc.\n",
    "import statistics as stat\n",
    "\n",
    "#Calculating and printing mean\n",
    "print (\"The East Mean is:\", round(stat.mean(east)))\n",
    "print (\"The West Mean is:\", round(stat.mean(west)))\n",
    "\n",
    "#Calculating and printing median\n",
    "print (\"The East Median is:\", stat.median(east))\n",
    "print (\"The West Median is:\", stat.median(west))\n",
    "\n",
    "#Calculating and printing mode\n",
    "try:\n",
    "    print (\"The East Mode is:\", stat.mode(east))\n",
    "except:\n",
    "    print (\"There is NO unique mode for the eastbound data\")\n",
    "    \n",
    "try:\n",
    "    print (\"The West Mode is:\", stat.mode(west))    \n",
    "except:\n",
    "    print (\"There is NO unique mode for the westbound data\")\n",
    "\n",
    "#Graphing the eastbound data\n",
    "plt.hist(east)\n",
    "plt.legend(\"E\")\n",
    "plt.title(\"Frequency of Bike Traffic (2012-2015)\")\n",
    "plt.xlabel(\"Frequency of Bikers\")\n",
    "plt.ylabel(\"Number of Days\")\n"
   ]
  },
  {
   "cell_type": "markdown",
   "metadata": {
    "collapsed": true
   },
   "source": [
    "### Part 1: Conclusion\n",
    "Because there is no unique mode for either data sets, it can be ruled out as an accurate measure of central tendency. Between Median and Mean, median would be the better indicator of central tendency. This is because mean is far more susceptible to influence from outliers in contrast to median. For this data set, it would not be especially difficult to calculate upper and lower bounds to find outliers but it would be very inefficient and increasingly impractical as the data sets grow larger. Additionlly, the histogram of the data shows a right skew and skews in data representation and indicators of bias or a displaced mean. Therefore, median would be our best measure of center. As printed above, the Eastbound Meadian is 1155 and the Westbound Median is 1262. What these numbers mean contextually is that approximately 1155 and 1262 bikers cross the bridge on a given day, respectively. "
   ]
  },
  {
   "cell_type": "markdown",
   "metadata": {
    "collapsed": true
   },
   "source": [
    "### Part 2: Predicting Bike Traffic"
   ]
  },
  {
   "cell_type": "code",
   "execution_count": 60,
   "metadata": {
    "collapsed": false
   },
   "outputs": [
    {
     "name": "stdout",
     "output_type": "stream",
     "text": [
      "Based on given dataset:\n",
      "# of Bikers on each Friday in July: [4100, 3887, 3628, 3813, 3772, 4106, 4072, 4135, 4168, 2579, 3963, 3915, 3696]\n",
      "Average # of Bikers on Fridays in July: 3833 Bikers\n",
      "\n",
      "Calculating Outliers:\n",
      "Quartile 1: 3772.0\n",
      "Mean: 3833\n",
      "Quartile 3: 4100.0\n",
      "Lower Outlier Limit: 3280.0\n",
      "Upper Outlier Limit: 4592.0\n",
      "Sorted July Data: [2579, 3628, 3696, 3772, 3813, 3887, 3915, 3963, 4072, 4100, 4106, 4135, 4168]\n",
      "2579 is below the Lower Outlier Limit and therefore is an outlier\n",
      "New July Data [3628, 3696, 3772, 3813, 3887, 3915, 3963, 4072, 4100, 4106, 4135, 4168]\n",
      "\n",
      "Final Results\n",
      "New Mean of Data: 3938\n",
      "Standard Deviation: 182\n",
      "95% Confidence Interval: [ 3574 , 4302 ]\n",
      "I am 95% confident that the true mean number of bikers on any friday in July will be in the interval: [3574, 4302]\n"
     ]
    },
    {
     "data": {
      "image/png": "[encoded data removed]",
      "text/plain": [
       "<matplotlib.figure.Figure at 0x1bf32349c18>"
      ]
     },
     "metadata": {},
     "output_type": "display_data"
    }
   ],
   "source": [
    "#Making sure graph will appear\n",
    "%matplotlib inline\n",
    "import matplotlib.pyplot as plt\n",
    "#open and save the file for reading\n",
    "data_file = open(\"FreBridgeLarge.csv\", \"r\");\n",
    "#create an empty list to store the data\n",
    "data_list = [];\n",
    "#put all lines from the file into a list\n",
    "for ii in data_file:\n",
    "    data_list.append(ii);\n",
    "\n",
    "#remove the first element (column header)\n",
    "del data_list[0];\n",
    "\n",
    "#create empty lists for the data for the west, east, and both\n",
    "west = []\n",
    "east = []\n",
    "both = []\n",
    "\n",
    "#edit down the list so its just values\n",
    "for jj in range(len(data_list)):\n",
    "    #strip off the \\n (newline)\n",
    "    data_list[jj] = data_list[jj].replace(\"\\n\", \"\");\n",
    "    #make into a list of lists of just numbers\n",
    "    data_list[jj] = data_list[jj].split(\",\");\n",
    "    #add data to specific lists for west and east\n",
    "    west.append(int(data_list[jj][1]));\n",
    "    east.append(int(data_list[jj][2]));\n",
    "\n",
    "#import the datetime library and establish the start date for the data as a friday allowing us to iterate by 7 days\n",
    "#so that we can only get data for fridays\n",
    "import datetime\n",
    "from datetime import timedelta\n",
    "date = datetime.date(2015, 12, 25)\n",
    "\n",
    "#Add the west and east data together into the empty list, \"both\"\n",
    "for x in range(len(west)):\n",
    "    both.append(west[x]+east[x])\n",
    "\n",
    "#Create new list for data from July\n",
    "data_july = []\n",
    "\n",
    "#Check every friday in the data set and append data from fridays in July to the the list. \"data_july\"\n",
    "for dateindex in range(6, len(data_list), 7):\n",
    "    datechange = timedelta(days=7)\n",
    "    date -= datechange\n",
    "    if date.month==7:\n",
    "        data_july.append(both[dateindex])\n",
    "\n",
    "#Import statistics and numpy libraries\n",
    "import statistics as stat\n",
    "import numpy as np\n",
    "\n",
    "#Print current data\n",
    "print (\"Based on given dataset:\")\n",
    "print(\"# of Bikers on each Friday in July:\", data_july)\n",
    "ave_july = round(stat.mean(data_july))\n",
    "print(\"Average # of Bikers on Fridays in July:\", ave_july, \"Bikers\")\n",
    "#Make histogram of data\n",
    "plt.hist(data_july)\n",
    "plt.title(\"Frequency of Bikers on Fridays in July (Potential Outliers)\")\n",
    "plt.xlabel(\"Frequency of Bikers\")\n",
    "plt.ylabel(\"Number of Days\")\n",
    "\n",
    "#An empty line to make text clearer\n",
    "print (\"\")\n",
    "\n",
    "#Calculating Outliers\n",
    "print (\"Calculating Outliers:\")\n",
    "#Find quartiles 1 and 3 using the percentile tool from the numpy library\n",
    "q1 = np.percentile(data_july, 25)\n",
    "print (\"Quartile 1:\", q1)\n",
    "print (\"Mean:\", ave_july)\n",
    "q3 = np.percentile(data_july, 75)\n",
    "print (\"Quartile 3:\", q3)\n",
    "#Calculate the interquartile range\n",
    "iqr = q3-q1\n",
    "#Find the upper and lower limits for outliers\n",
    "outlierLimitLow = q1 - 1.5*(iqr)\n",
    "outlierLimitHigh = q3 + 1.5*(iqr)\n",
    "print (\"Lower Outlier Limit:\", outlierLimitLow)\n",
    "print (\"Upper Outlier Limit:\", outlierLimitHigh)\n",
    "#Sort data set in ascending order to easily identify outliers\n",
    "data_july.sort()\n",
    "print (\"Sorted July Data:\", data_july)\n",
    "print (\"2579 is below the Lower Outlier Limit and therefore is an outlier\")\n",
    "\n",
    "#Removing outlier from list\n",
    "data_july.remove(2579)\n",
    "print (\"New July Data\", data_july)\n",
    "\n",
    "#Adding blank line\n",
    "print (\"\")\n",
    "\n",
    "#Print final data\n",
    "print(\"Final Results\")\n",
    "newAveJuly = round(stat.mean(data_july))\n",
    "print (\"New Mean of Data:\", newAveJuly)\n",
    "\n",
    "#Find confidence interval using standard deviation and print the results\n",
    "standardDev = round(stat.stdev(data_july))\n",
    "print (\"Standard Deviation:\", standardDev)\n",
    "marginOE = standardDev * 2\n",
    "interval_low = newAveJuly - marginOE\n",
    "interval_high = newAveJuly + marginOE\n",
    "print (\"95% Confidence Interval: [\",round(interval_low),\",\",round(interval_high),\"]\")\n",
    "print (\"I am 95% confident that the true mean number of bikers on any friday in July will be in the interval: [3574, 4302]\")"
   ]
  },
  {
   "cell_type": "markdown",
   "metadata": {
    "collapsed": true
   },
   "source": [
    "### Part 2: Conclusion\n",
    "In this situation, we have 13 data points which makes it very easy to calculate upper and lower bounds and find any outliers. Looking at the histogram, it clearly suggests the presence of an outlier and upon calculations, there was an outlier at 2579. After removing the outlier, the mean became a more reliable form of measurement. Simply extrapolating a number for an upcoming friday based on past fridays would likely be inaccurate so for the purposes of predictions, a confidence interval would be be more appropriate. I made a 95% confidence interval using the new mean (mean calculated once the outlier was removed) that indicates that we can be 95% confident that the true mean of bike traffic on fridays in July is within the interval [3574, 4302]. To find this confidence interval, I took the new mean of the data and added 2 standard deviations to find the upper end of the interval and subtracted two standard deviations for the lower end. I used the standard deviations of the data for fridays in July instead of the population standard deviations because that would create a more accurate confidence interval for the data we are attempting to estimate.  For the purposes of making a prediction, we can use this confidence interval to estimate that number of bikers on a given friday in July would be within the interval."
   ]
  },
  {
   "cell_type": "code",
   "execution_count": null,
   "metadata": {
    "collapsed": true
   },
   "outputs": [],
   "source": []
  },
  {
   "cell_type": "code",
   "execution_count": null,
   "metadata": {
    "collapsed": true
   },
   "outputs": [],
   "source": []
  }
 ],
 "metadata": {
  "kernelspec": {
   "display_name": "Python 3",
   "language": "python",
   "name": "python3"
  },
  "language_info": {
   "codemirror_mode": {
    "name": "ipython",
    "version": 3
   },
   "file_extension": ".py",
   "mimetype": "text/x-python",
   "name": "python",
   "nbconvert_exporter": "python",
   "pygments_lexer": "ipython3",
   "version": "3.5.1"
  }
 },
 "nbformat": 4,
 "nbformat_minor": 0
}
